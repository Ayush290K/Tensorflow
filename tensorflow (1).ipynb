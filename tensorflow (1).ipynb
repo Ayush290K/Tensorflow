{
  "nbformat": 4,
  "nbformat_minor": 0,
  "metadata": {
    "colab": {
      "name": "tensorflow.ipynb",
      "provenance": []
    },
    "kernelspec": {
      "name": "python3",
      "display_name": "Python 3"
    },
    "language_info": {
      "name": "python"
    }
  },
  "cells": [
    {
      "cell_type": "code",
      "execution_count": null,
      "metadata": {
        "id": "DRuiQc1dWWeA"
      },
      "outputs": [],
      "source": [
        "import tensorflow as tf"
      ]
    },
    {
      "cell_type": "code",
      "source": [
        "a = tf.constant(20)\n",
        "print(a)"
      ],
      "metadata": {
        "colab": {
          "base_uri": "https://localhost:8080/"
        },
        "id": "2GkGxrvgWePg",
        "outputId": "138df205-87a2-44c4-97be-18f7f761b5cf"
      },
      "execution_count": null,
      "outputs": [
        {
          "output_type": "stream",
          "name": "stdout",
          "text": [
            "tf.Tensor(20, shape=(), dtype=int32)\n"
          ]
        }
      ]
    },
    {
      "cell_type": "code",
      "source": [
        "b = tf.constant(30)\n",
        "#c = a+b\n",
        "#print(c)\n",
        "c = tf.add(a,b)\n",
        "print(c)"
      ],
      "metadata": {
        "colab": {
          "base_uri": "https://localhost:8080/"
        },
        "id": "k3n5FRpwWyr9",
        "outputId": "2404a428-cce4-4cfc-af6e-9293ece73d40"
      },
      "execution_count": null,
      "outputs": [
        {
          "output_type": "stream",
          "name": "stdout",
          "text": [
            "tf.Tensor(50, shape=(), dtype=int32)\n"
          ]
        }
      ]
    },
    {
      "cell_type": "code",
      "source": [
        "matrix = tf.Variable([[1,3], [3,2]])\n",
        "matrix2 = tf.Variable([[3,9], [7,7]])\n",
        "print(tf.matmul(matrix , matrix2))"
      ],
      "metadata": {
        "colab": {
          "base_uri": "https://localhost:8080/"
        },
        "id": "uzyCr1c8XCa7",
        "outputId": "610d0756-e924-45b3-f1b5-9047e2a6fcec"
      },
      "execution_count": null,
      "outputs": [
        {
          "output_type": "stream",
          "name": "stdout",
          "text": [
            "tf.Tensor(\n",
            "[[24 30]\n",
            " [23 41]], shape=(2, 2), dtype=int32)\n"
          ]
        }
      ]
    },
    {
      "cell_type": "code",
      "source": [
        "(x_train, y_train), (x_test, y_test) = tf.keras.datasets.mnist.load_data()"
      ],
      "metadata": {
        "colab": {
          "base_uri": "https://localhost:8080/"
        },
        "id": "GDKRKLH1X8Rr",
        "outputId": "c924d6e4-8fde-4bec-c3b0-0a77f724a46c"
      },
      "execution_count": null,
      "outputs": [
        {
          "output_type": "stream",
          "name": "stdout",
          "text": [
            "Downloading data from https://storage.googleapis.com/tensorflow/tf-keras-datasets/mnist.npz\n",
            "11493376/11490434 [==============================] - 0s 0us/step\n",
            "11501568/11490434 [==============================] - 0s 0us/step\n"
          ]
        }
      ]
    },
    {
      "cell_type": "code",
      "source": [
        "x_train.shape , y_train.shape"
      ],
      "metadata": {
        "colab": {
          "base_uri": "https://localhost:8080/"
        },
        "id": "2Om0culccah7",
        "outputId": "7658d2e0-aa6e-4663-b27a-eff8653b080f"
      },
      "execution_count": null,
      "outputs": [
        {
          "output_type": "execute_result",
          "data": {
            "text/plain": [
              "((60000, 28, 28), (60000,))"
            ]
          },
          "metadata": {},
          "execution_count": 6
        }
      ]
    },
    {
      "cell_type": "code",
      "source": [
        "import matplotlib.pyplot as plt\n",
        "plt.imshow(x_train[0])\n",
        "plt.show()\n",
        "print(y_train[0])"
      ],
      "metadata": {
        "colab": {
          "base_uri": "https://localhost:8080/",
          "height": 282
        },
        "id": "llWNK3VMceuQ",
        "outputId": "667edf9e-6b4a-49db-e8bf-a4b188d22925"
      },
      "execution_count": null,
      "outputs": [
        {
          "output_type": "display_data",
          "data": {
            "text/plain": [
              "<Figure size 432x288 with 1 Axes>"
            ],
            "image/png": "[encoded data removed]"
          },
          "metadata": {
            "needs_background": "light"
          }
        },
        {
          "output_type": "stream",
          "name": "stdout",
          "text": [
            "5\n"
          ]
        }
      ]
    },
    {
      "cell_type": "code",
      "source": [
        "x_train = x_train.reshape(x_train.shape[0], -1)/255.0 # the ml algorithms most of the time requires a 2d data, but here the dimesion is 3d i.e.\n",
        "# 60000,28,28 so to convert it into 2d data we just multiply the pixel values i.e. 28*28.\n",
        "# now it had to be as (60000 , 784) but we also need to scale the values from 0-1 so to acheive this we divided 784/-784 which came out to be -1.\n",
        "x_test = x_test.reshape(x_test.shape[0], -1)/255.0"
      ],
      "metadata": {
        "id": "G4aa_03ohET-"
      },
      "execution_count": null,
      "outputs": []
    },
    {
      "cell_type": "code",
      "source": [
        "y_train = tf.keras.utils.to_categorical(y_train) # we are doing one hot encoding here.\n",
        "y_test = tf.keras.utils.to_categorical(y_test)"
      ],
      "metadata": {
        "id": "QA-CSbJk1dhp"
      },
      "execution_count": null,
      "outputs": []
    },
    {
      "cell_type": "code",
      "source": [
        "x_train.shape # it means there are 60k rows and 784 columns."
      ],
      "metadata": {
        "colab": {
          "base_uri": "https://localhost:8080/"
        },
        "id": "HLLujvx51x0R",
        "outputId": "228cf596-5636-4e1d-c075-e1b69212d76f"
      },
      "execution_count": null,
      "outputs": [
        {
          "output_type": "execute_result",
          "data": {
            "text/plain": [
              "(60000, 784)"
            ]
          },
          "metadata": {},
          "execution_count": 10
        }
      ]
    },
    {
      "cell_type": "code",
      "source": [
        "from tensorflow.keras import Sequential\n",
        "from tensorflow.keras.layers import Dense"
      ],
      "metadata": {
        "id": "Wl9omsxh8fOA"
      },
      "execution_count": null,
      "outputs": []
    },
    {
      "cell_type": "code",
      "source": [
        "model = Sequential()\n",
        "model.add(Dense(256, activation = 'relu', input_shape = (784,))) # this is for 1st hidden layer it requires the number of units and the\n",
        "# activation function and the input shape for the 1st hidden layer it's a matrix of just 1 column with 784 units/features in it.\n",
        "model.add(Dense(256, activation = 'relu')) # hidden layer 2.\n",
        "model.add(Dense(10, activation = 'softmax')) # now since this is multiclass classification we will not use sigmoid function here, if it had been\n",
        "#a binary classification we would have used sigmoid function as the activation function here."
      ],
      "metadata": {
        "id": "q8NY3Z9YGwuO"
      },
      "execution_count": null,
      "outputs": []
    },
    {
      "cell_type": "code",
      "source": [
        "model.compile(optimizer = 'adam', loss = 'categorical_crossentropy', metrics = ['accuracy']) # adam is a kind of stochastic gradient.\n",
        "#It reduces the error by updating the weights. If this was a binary classification problem we would have used binary cross entropy\n",
        "#but this is a multiclass classification so we are using this loss function.\n",
        "# In metric we mean is on what basis we want to optimize our model, so we want to optimize our model on accuracy metric so we will pass accuracy"
      ],
      "metadata": {
        "id": "R7YD2MbAMQRo"
      },
      "execution_count": null,
      "outputs": []
    },
    {
      "cell_type": "code",
      "source": [
        "model.fit(x_train, y_train, epochs = 10, batch_size = 1024) # we will fit our model we will give input and output of our training data.\n",
        "# batch_size means how we want to train our model like if we don't pass batch_size the whole model will get trained in one go, but if we give\n",
        "# batch_size then it will get trained on the batches and batches would be the value we pass.\n",
        "\n",
        "# There will be 59 batches because when we divide 60k by 1024 we will get 59.\n",
        "\n",
        "# ---------------IMPORTANT-------------------------\n",
        "# If the batch size is 1000, we can complete an epoch with a single iteration. Similarly, if the batch size is 500, an epoch takes two\n",
        "#iterations. So, if the batch size is 100, an epoch takes 10 iterations to complete. Simply, for each epoch, the required number of iterations\n",
        "#times the batch size gives the number of data points."
      ],
      "metadata": {
        "colab": {
          "base_uri": "https://localhost:8080/"
        },
        "id": "KhCjL8HuPZwT",
        "outputId": "bca19d81-9236-4b37-dd97-da70dc42b0a7"
      },
      "execution_count": null,
      "outputs": [
        {
          "output_type": "stream",
          "name": "stdout",
          "text": [
            "Epoch 1/10\n",
            "59/59 [==============================] - 2s 27ms/step - loss: 0.5841 - accuracy: 0.8447\n",
            "Epoch 2/10\n",
            "59/59 [==============================] - 2s 29ms/step - loss: 0.2064 - accuracy: 0.9393\n",
            "Epoch 3/10\n",
            "59/59 [==============================] - 2s 27ms/step - loss: 0.1431 - accuracy: 0.9582\n",
            "Epoch 4/10\n",
            "59/59 [==============================] - 2s 26ms/step - loss: 0.1113 - accuracy: 0.9679\n",
            "Epoch 5/10\n",
            "59/59 [==============================] - 2s 27ms/step - loss: 0.0881 - accuracy: 0.9742\n",
            "Epoch 6/10\n",
            "59/59 [==============================] - 2s 26ms/step - loss: 0.0734 - accuracy: 0.9785\n",
            "Epoch 7/10\n",
            "59/59 [==============================] - 2s 32ms/step - loss: 0.0592 - accuracy: 0.9834\n",
            "Epoch 8/10\n",
            "59/59 [==============================] - 3s 47ms/step - loss: 0.0514 - accuracy: 0.9852\n",
            "Epoch 9/10\n",
            "59/59 [==============================] - 3s 50ms/step - loss: 0.0432 - accuracy: 0.9880\n",
            "Epoch 10/10\n",
            "59/59 [==============================] - 3s 52ms/step - loss: 0.0369 - accuracy: 0.9898\n"
          ]
        },
        {
          "output_type": "execute_result",
          "data": {
            "text/plain": [
              "<keras.callbacks.History at 0x7f571264c210>"
            ]
          },
          "metadata": {},
          "execution_count": 14
        }
      ]
    },
    {
      "cell_type": "code",
      "source": [
        "model.evaluate(x_test, y_test)"
      ],
      "metadata": {
        "colab": {
          "base_uri": "https://localhost:8080/"
        },
        "id": "KD2jefHzQip1",
        "outputId": "dc9efd5e-0be8-4bf0-e134-28b0546b9807"
      },
      "execution_count": null,
      "outputs": [
        {
          "output_type": "stream",
          "name": "stdout",
          "text": [
            "313/313 [==============================] - 1s 3ms/step - loss: 0.0736 - accuracy: 0.9779\n"
          ]
        },
        {
          "output_type": "execute_result",
          "data": {
            "text/plain": [
              "[0.07355228066444397, 0.9779000282287598]"
            ]
          },
          "metadata": {},
          "execution_count": 15
        }
      ]
    },
    {
      "cell_type": "code",
      "source": [
        "from tensorflow.keras import Model"
      ],
      "metadata": {
        "id": "cQvYQXroYyH7"
      },
      "execution_count": null,
      "outputs": []
    },
    {
      "cell_type": "code",
      "source": [
        "from tensorflow.keras.layers import concatenate,Input"
      ],
      "metadata": {
        "id": "5srwfakSZbkF"
      },
      "execution_count": null,
      "outputs": []
    },
    {
      "cell_type": "code",
      "source": [
        "input = Input(shape = [784,])"
      ],
      "metadata": {
        "id": "oGZP3mjTZjY-"
      },
      "execution_count": null,
      "outputs": []
    },
    {
      "cell_type": "code",
      "source": [
        "hidden_1 = Dense(256, activation = 'relu')(input)"
      ],
      "metadata": {
        "id": "y_yIR7sdaFcQ"
      },
      "execution_count": null,
      "outputs": []
    },
    {
      "cell_type": "code",
      "source": [
        "hidden_2 = Dense(256, activation = 'relu')(hidden_1)"
      ],
      "metadata": {
        "id": "4NJ43Y8faYSW"
      },
      "execution_count": null,
      "outputs": []
    },
    {
      "cell_type": "code",
      "source": [
        "hidden_3 = Dense(256, activation = 'relu')(input)"
      ],
      "metadata": {
        "id": "BPva5fJrahBj"
      },
      "execution_count": null,
      "outputs": []
    },
    {
      "cell_type": "code",
      "source": [
        "from keras.layers import Concatenate\n",
        "concat = Concatenate()([hidden_2, hidden_3])\n",
        "output = Dense(10, activation = 'softmax')(concat)\n",
        "model = Model(inputs = [input], outputs = [output])\n",
        "model.summary()"
      ],
      "metadata": {
        "colab": {
          "base_uri": "https://localhost:8080/"
        },
        "id": "ihjwRqREatX1",
        "outputId": "b667b436-6212-4978-d67a-0a3e693aebd1"
      },
      "execution_count": null,
      "outputs": [
        {
          "output_type": "stream",
          "name": "stdout",
          "text": [
            "Model: \"model\"\n",
            "__________________________________________________________________________________________________\n",
            " Layer (type)                   Output Shape         Param #     Connected to                     \n",
            "==================================================================================================\n",
            " input_1 (InputLayer)           [(None, 784)]        0           []                               \n",
            "                                                                                                  \n",
            " dense_3 (Dense)                (None, 256)          200960      ['input_1[0][0]']                \n",
            "                                                                                                  \n",
            " dense_4 (Dense)                (None, 256)          65792       ['dense_3[0][0]']                \n",
            "                                                                                                  \n",
            " dense_5 (Dense)                (None, 256)          200960      ['input_1[0][0]']                \n",
            "                                                                                                  \n",
            " concatenate (Concatenate)      (None, 512)          0           ['dense_4[0][0]',                \n",
            "                                                                  'dense_5[0][0]']                \n",
            "                                                                                                  \n",
            " dense_6 (Dense)                (None, 10)           5130        ['concatenate[0][0]']            \n",
            "                                                                                                  \n",
            "==================================================================================================\n",
            "Total params: 472,842\n",
            "Trainable params: 472,842\n",
            "Non-trainable params: 0\n",
            "__________________________________________________________________________________________________\n"
          ]
        }
      ]
    },
    {
      "cell_type": "code",
      "source": [
        "model.compile(optimizer = 'adam', loss = 'categorical_crossentropy', metrics = ['accuracy'])\n",
        "model.fit(x_train,y_train, epochs = 10, batch_size = 1024)"
      ],
      "metadata": {
        "id": "Lc4dmn0JkPjV",
        "colab": {
          "base_uri": "https://localhost:8080/"
        },
        "outputId": "70a03489-0256-4c46-b3e2-d964426c327e"
      },
      "execution_count": null,
      "outputs": [
        {
          "output_type": "stream",
          "name": "stdout",
          "text": [
            "Epoch 1/10\n",
            "59/59 [==============================] - 4s 46ms/step - loss: 0.0087 - accuracy: 0.9977\n",
            "Epoch 2/10\n",
            "59/59 [==============================] - 2s 40ms/step - loss: 0.0038 - accuracy: 0.9996\n",
            "Epoch 3/10\n",
            "59/59 [==============================] - 2s 41ms/step - loss: 0.0031 - accuracy: 0.9997\n",
            "Epoch 4/10\n",
            "59/59 [==============================] - 2s 41ms/step - loss: 0.0024 - accuracy: 0.9999\n",
            "Epoch 5/10\n",
            "59/59 [==============================] - 2s 41ms/step - loss: 0.0021 - accuracy: 0.9999\n",
            "Epoch 6/10\n",
            "59/59 [==============================] - 2s 41ms/step - loss: 0.0038 - accuracy: 0.9992\n",
            "Epoch 7/10\n",
            "59/59 [==============================] - 2s 40ms/step - loss: 0.0057 - accuracy: 0.9985\n",
            "Epoch 8/10\n",
            "59/59 [==============================] - 2s 41ms/step - loss: 0.0063 - accuracy: 0.9982\n",
            "Epoch 9/10\n",
            "59/59 [==============================] - 2s 41ms/step - loss: 0.0105 - accuracy: 0.9966\n",
            "Epoch 10/10\n",
            "59/59 [==============================] - 2s 41ms/step - loss: 0.0038 - accuracy: 0.9989\n"
          ]
        },
        {
          "output_type": "execute_result",
          "data": {
            "text/plain": [
              "<keras.callbacks.History at 0x7f570e614750>"
            ]
          },
          "metadata": {},
          "execution_count": 26
        }
      ]
    },
    {
      "cell_type": "code",
      "source": [
        "model.evaluate(x_test,y_test)"
      ],
      "metadata": {
        "colab": {
          "base_uri": "https://localhost:8080/"
        },
        "id": "lHU6kt1hAxju",
        "outputId": "3c86d661-e457-4532-d43c-2a943c239e4d"
      },
      "execution_count": null,
      "outputs": [
        {
          "output_type": "stream",
          "name": "stdout",
          "text": [
            "313/313 [==============================] - 1s 2ms/step - loss: 0.0790 - accuracy: 0.9811\n"
          ]
        },
        {
          "output_type": "execute_result",
          "data": {
            "text/plain": [
              "[0.07901114225387573, 0.9811000227928162]"
            ]
          },
          "metadata": {},
          "execution_count": 27
        }
      ]
    }
  ]
}